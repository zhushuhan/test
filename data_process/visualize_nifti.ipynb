{
 "cells": [
  {
   "cell_type": "code",
   "execution_count": 10,
   "metadata": {},
   "outputs": [],
   "source": [
    "import SimpleITK as sitk\n",
    "import cv2\n",
    "from PIL import Image\n",
    "import nibabel as nib\n",
    "import numpy\n",
    "import numpy as np\n",
    "import os\n",
    "import os.path as osp"
   ]
  },
  {
   "cell_type": "code",
   "execution_count": 12,
   "metadata": {},
   "outputs": [],
   "source": [
    "def  resize_data(outputfile: str,resize_file:str):\n",
    "    assert osp.exists(outputfile), 'dataset dir {} does not exist.'.format(\n",
    "        outputfile)\n",
    "    if not osp.exists(resize_file):\n",
    "        os.mkdir(resize_file)\n",
    "    patient_list = os.listdir(outputfile)\n",
    "    for patient in patient_list:\n",
    "        outputfile1 = outputfile + '/' + patient\n",
    "        resize_file1 = resize_file + '/' + patient\n",
    "        if not osp.exists(resize_file1):\n",
    "            os.mkdir(resize_file1)\n",
    "        modality_list = os.listdir(outputfile1)\n",
    "        for modality in modality_list:\n",
    "            outputfile2 = outputfile1 + '/' + modality\n",
    "            #print(outputfile2)\n",
    "            resize_file2 = resize_file1 + '/' + modality\n",
    "            if not osp.exists(resize_file2):\n",
    "                os.mkdir(resize_file2)\n",
    "            data = (os.listdir(outputfile2))[0]\n",
    "            datafile = outputfile2 + '/' + data\n",
    "            resize_datafile = resize_file2 + '/' + data\n",
    "            img = sitk.ReadImage(datafile)\n",
    "            img = sitk.GetArrayFromImage(img).astype(np.float64)\n",
    "            img = img.transpose(2,1,0)\n",
    "            # img = nib.load(datafile)\n",
    "            # img = img.get_fdata()\n",
    "            img = cv2.resize(img, (512, 512))\n",
    "            print('patient:',patient,'modality:',modality,'size:',img.shape)\n",
    "            # img_affine = img.affine()\n",
    "            # nib.Nifti1Image(img, img_affine).to_filename(resize_datafile)\n",
    "            img = img.transpose(2,1,0)\n",
    "            img = sitk.GetImageFromArray(img)\n",
    "            sitk.WriteImage(img,resize_datafile)\n",
    "            \n",
    "\n",
    "            \n",
    "            "
   ]
  },
  {
   "cell_type": "code",
   "execution_count": 13,
   "metadata": {},
   "outputs": [
    {
     "name": "stdout",
     "output_type": "stream",
     "text": [
      "patient: FU ZHENG XIANG modality: T1_Ax size: (512, 512, 24)\n",
      "patient: FU ZHENG XIANG modality: T1_E_Ax size: (512, 512, 24)\n",
      "patient: FU ZHENG XIANG modality: T2_Ax size: (512, 512, 24)\n",
      "patient: HU YI XUAN modality: T1_E_Ax size: (512, 512, 24)\n",
      "patient: LI KE modality: T1_Ax size: (512, 512, 24)\n",
      "patient: LI KE modality: T1_E_Ax size: (512, 512, 24)\n",
      "patient: LI KE modality: T2_Ax size: (512, 512, 24)\n",
      "patient: LI ZI HAO modality: T1_Ax size: (512, 512, 24)\n",
      "patient: LI ZI HAO modality: T1_E_Ax size: (512, 512, 24)\n",
      "patient: LI ZI HAO modality: T2_Ax size: (512, 512, 24)\n",
      "patient: ZHANG FEI FEI modality: T1_Ax size: (512, 512, 24)\n",
      "patient: ZHANG FEI FEI modality: T1_E_Ax size: (512, 512, 24)\n",
      "patient: ZHANG FEI FEI modality: T2_Ax size: (512, 512, 24)\n",
      "patient: ZHANG LU PING modality: T1_Ax size: (512, 512, 24)\n",
      "patient: ZHANG LU PING modality: T1_E_Ax size: (512, 512, 24)\n",
      "patient: ZHANG LU PING modality: T2_Ax size: (512, 512, 24)\n",
      "patient: ZHANG WEN LE modality: T1_Ax size: (512, 512, 24)\n",
      "patient: ZHANG WEN LE modality: T1_E_Ax size: (512, 512, 24)\n",
      "patient: ZHANG WEN LE modality: T2_Ax size: (512, 512, 24)\n"
     ]
    }
   ],
   "source": [
    "resize_data('C:/Users/SYZX-Yjflash/Desktop/new_med_process/med','C:/Users/SYZX-Yjflash/Desktop/new_med_process/med_resize')"
   ]
  },
  {
   "cell_type": "code",
   "execution_count": 14,
   "metadata": {},
   "outputs": [
    {
     "name": "stdout",
     "output_type": "stream",
     "text": [
      "(512, 512, 24)\n"
     ]
    }
   ],
   "source": [
    "img = nib.load('C:/Users/SYZX-Yjflash/Desktop/new_med_process/med_resize/LI KE/T1_Ax/T1_Ax.nii.gz')\n",
    "img = img.get_fdata()\n",
    "print(img.shape)"
   ]
  },
  {
   "cell_type": "code",
   "execution_count": 4,
   "metadata": {},
   "outputs": [
    {
     "name": "stdout",
     "output_type": "stream",
     "text": [
      "[   0.            0.            0.         ... 1053.72788037 1059.65737107\n",
      " 1061.9526578 ]\n",
      "274.2867635596454\n",
      "532.8890678362427\n",
      "718.4247447210796\n",
      "832.0414375763302\n"
     ]
    }
   ],
   "source": [
    "img = sitk.ReadImage('C:/Users/SYZX-Yjflash/Desktop/new_med_process/med/FU ZHENG XIANG/T1_Ax/T1_Ax.nii.gz')\n",
    "array = sitk.GetArrayFromImage(img)\n",
    "# 5.228105\n",
    "# print(array)\n",
    "# array = array * 256. / array.max()\n",
    "# cv2.imwrite('./raw1.jpeg', array[4][::-1, :])\n",
    "a = array / 5.228105\n",
    "c = a.reshape(-1)\n",
    "c.sort()\n",
    "print(c)\n",
    "n = len(c)\n",
    "print(c[int(0.9*n)])\n",
    "print(c[int(0.99*n)])\n",
    "print(c[int(0.999*n)])\n",
    "print(c[int(0.9999*n)])"
   ]
  },
  {
   "cell_type": "code",
   "execution_count": 5,
   "metadata": {},
   "outputs": [
    {
     "name": "stdout",
     "output_type": "stream",
     "text": [
      "int16\n",
      "255.99999999999997\n",
      "float64\n",
      "(512, 512, 24)\n"
     ]
    }
   ],
   "source": [
    "img = nib.load('C:/Users/SYZX-Yjflash/Desktop/new_med_process/med/FU ZHENG XIANG/T1_Ax/T1_Ax.nii.gz')\n",
    "print(img.get_data_dtype())\n",
    "array = img.get_fdata()\n",
    "array = array * (256. / array.max())\n",
    "print(array.max())\n",
    "print(array.dtype)\n",
    "print(array.shape)\n",
    "array = array.transpose(2, 1, 0)\n",
    "# array.dtype = img.get_data_dtype()\n",
    "# array = array.transpose(2, 1, 0).astype('float16')/32768 * 256\n",
    "# # array = (array + 1) * 128\n",
    "# print(array)\n",
    "# print(array.shape)\n",
    "cv2.imwrite('./raw2.jpeg', array[4])"
   ]
  },
  {
   "cell_type": "code",
   "execution_count": 19,
   "metadata": {},
   "outputs": [
    {
     "name": "stdout",
     "output_type": "stream",
     "text": [
      "(182, 218, 182)\n"
     ]
    },
    {
     "data": {
      "text/plain": [
       "True"
      ]
     },
     "execution_count": 19,
     "metadata": {},
     "output_type": "execute_result"
    }
   ],
   "source": [
    "array = sitk.GetArrayFromImage(sitk.ReadImage('/home/muzhao.hz/Projects/Medical/data/99/Registration/T1_E_Ax_reg.nii.gz'))\n",
    "print(array.shape)\n",
    "cv2.imwrite('./reg.jpeg', array[4])"
   ]
  },
  {
   "cell_type": "code",
   "execution_count": 20,
   "metadata": {},
   "outputs": [
    {
     "name": "stdout",
     "output_type": "stream",
     "text": [
      "(182, 218, 182)\n"
     ]
    },
    {
     "data": {
      "text/plain": [
       "True"
      ]
     },
     "execution_count": 20,
     "metadata": {},
     "output_type": "execute_result"
    }
   ],
   "source": [
    "array = sitk.GetArrayFromImage(sitk.ReadImage('/home/muzhao.hz/Projects/Medical/data/99/N4BiasFieldCorrection/T1_E_Ax_reg.nii.gz'))\n",
    "print(array.shape)\n",
    "cv2.imwrite('./correct.jpeg', array[4])"
   ]
  }
 ],
 "metadata": {
  "interpreter": {
   "hash": "90407da8723896de4eea46be7327b67e553149c9262af6edaba8e292d87af1e8"
  },
  "kernelspec": {
   "display_name": "Python 3.7.12 64-bit ('Medical': conda)",
   "language": "python",
   "name": "python3"
  },
  "language_info": {
   "codemirror_mode": {
    "name": "ipython",
    "version": 3
   },
   "file_extension": ".py",
   "mimetype": "text/x-python",
   "name": "python",
   "nbconvert_exporter": "python",
   "pygments_lexer": "ipython3",
   "version": "3.8.8"
  },
  "orig_nbformat": 4
 },
 "nbformat": 4,
 "nbformat_minor": 2
}
